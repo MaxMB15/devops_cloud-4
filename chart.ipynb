# The existing data will be used to represent the average Req/Sec for 1, 2, 4, 8 instances respectively

instance_counts = [1, 2, 4, 8]

avg_req_sec = [800.12, 0.98 * 1000, 0.88 * 1000, 721.27]  # Extracted avg Req/Sec for each "instance"



# Plotting

plt.figure(figsize=(10, 6))

plt.bar([str(instance) for instance in instance_counts], avg_req_sec, color='teal')

plt.xlabel('Number of Instances')

plt.ylabel('Avg Req/Sec')

plt.title('Performance Scaling with Number of Instances')

plt.xticks([str(instance) for instance in instance_counts])

plt.show()
